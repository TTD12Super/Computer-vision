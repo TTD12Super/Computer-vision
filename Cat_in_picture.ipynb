{
 "cells": [
  {
   "cell_type": "code",
   "execution_count": null,
   "id": "5cac2135",
   "metadata": {},
   "outputs": [],
   "source": [
    "### Detected cat"
   ]
  },
  {
   "cell_type": "code",
   "execution_count": null,
   "id": "36a0022f",
   "metadata": {},
   "outputs": [
    {
     "name": "stderr",
     "output_type": "stream",
     "text": [
      "100%|██████████| 170M/170M [00:43<00:00, 3.90MB/s] \n"
     ]
    }
   ],
   "source": [
    "# import torchvision.datasets as datasets\n",
    "# import torchvision.transforms as transforms\n",
    "\n",
    "# transform = transforms.ToTensor()\n",
    "# trainset = datasets.CIFAR10(root=\"./data\", train=True, download=True, transform=transform)\n",
    "# testset = datasets.CIFAR10(root=\"./data\", train=False, download=True, transform=transform)\n",
    "\n"
   ]
  },
  {
   "cell_type": "code",
   "execution_count": null,
   "id": "a1fed070",
   "metadata": {},
   "outputs": [],
   "source": [
    "import numpy as np\n",
    "import cv2\n",
    "import matplotlib.pyplot as plt\n",
    "from torchvision import datasets\n",
    "from tensorflow.keras.applications import MobileNetV2\n",
    "from tensorflow.keras.applications.mobilenet_v2 import preprocess_input, decode_predictions\n",
    "\n",
    "# Load model\n",
    "model = MobileNetV2(weights=\"imagenet\")\n",
    "\n",
    "# CIFAR-10 dataset\n",
    "trainset = datasets.CIFAR10(root=\"./data\", train=True, download=True)\n",
    "cifar10_classes = [\n",
    "    \"airplane\", \"automobile\", \"bird\", \"cat\", \"deer\",\n",
    "    \"dog\", \"frog\", \"horse\", \"ship\", \"truck\"\n",
    "]\n",
    "\n",
    "def detect_cat_in_cifar10_sample(index):\n",
    "    # Lấy ảnh và label\n",
    "    img, label = trainset[index]\n",
    "    true_label = cifar10_classes[label]\n",
    "\n",
    "    # Convert sang numpy\n",
    "    img = np.array(img)\n",
    "\n",
    "    # Resize cho MobileNetV2\n",
    "    img_resized = cv2.resize(img, (224, 224))\n",
    "    x = np.expand_dims(img_resized, axis=0)\n",
    "    x = preprocess_input(x)\n",
    "\n",
    "    # Dự đoán\n",
    "    preds = model.predict(x)\n",
    "    decoded = decode_predictions(preds, top=3)[0]\n",
    "\n",
    "    # Kiểm tra có mèo không\n",
    "    predicted_cat = any(\"cat\" in lbl.lower() for _, lbl, _ in decoded)\n",
    "\n",
    "    # In kết quả\n",
    "    print(f\"Ground truth CIFAR-10: {true_label}\")\n",
    "    print(\"MobileNetV2 top-3:\", decoded)\n",
    "\n",
    "    # Hiển thị ảnh\n",
    "    plt.imshow(np.array(trainset[index][0]))\n",
    "    plt.title(f\"Ground truth: {true_label}\")\n",
    "    plt.axis(\"off\")\n",
    "    plt.show()\n",
    "\n",
    "    # So sánh đúng sai\n",
    "    if true_label == \"cat\":\n",
    "        if predicted_cat:\n",
    "            print(\" Dự đoán ĐÚNG (ảnh này là mèo và model cũng thấy mèo)\")\n",
    "        else:\n",
    "            print(\" Dự đoán SAI (ảnh này là mèo nhưng model không thấy mèo)\")\n",
    "    else:\n",
    "        if predicted_cat:\n",
    "            print(\" Dự đoán SAI (ảnh này KHÔNG phải mèo nhưng model lại thấy mèo)\")\n",
    "        else:\n",
    "            print(\" Dự đoán ĐÚNG (ảnh này không phải mèo và model cũng không thấy mèo)\")\n",
    "\n",
    "\n",
    "for i in range (0,50):\n",
    "    result = detect_cat_in_cifar10_sample(i)\n"
   ]
  },
  {
   "cell_type": "code",
   "execution_count": 58,
   "id": "b06013da",
   "metadata": {},
   "outputs": [
    {
     "name": "stdout",
     "output_type": "stream",
     "text": [
      "✅ Accuracy của MobileNetV2 trên 10000 ảnh CIFAR-10: 89.78%\n"
     ]
    }
   ],
   "source": [
    "def evaluate_accuracy(N):\n",
    "    correct = 0\n",
    "    total = 0\n",
    "    n_samples = N\n",
    "    for i in range(n_samples):\n",
    "        img, label = trainset[i]\n",
    "        true_label = cifar10_classes[label]\n",
    "\n",
    "        # Convert sang numpy\n",
    "        img = np.array(img)\n",
    "\n",
    "        # Resize cho MobileNetV2\n",
    "        img_resized = cv2.resize(img, (224, 224))\n",
    "        x = np.expand_dims(img_resized, axis=0)\n",
    "        x = preprocess_input(x)\n",
    "\n",
    "        # Dự đoán\n",
    "        preds = model.predict(x, verbose=0)\n",
    "        decoded = decode_predictions(preds, top=3)[0]\n",
    "\n",
    "        # Model có thấy mèo không?\n",
    "        predicted_cat = any(\"cat\" in lbl.lower() for _, lbl, _ in decoded)\n",
    "\n",
    "        # Đúng khi ground truth và dự đoán trùng nhau\n",
    "        if (true_label == \"cat\" and predicted_cat) or (true_label != \"cat\" and not predicted_cat):\n",
    "            correct += 1\n",
    "        total += 1\n",
    "\n",
    "    acc = correct / total\n",
    "    return acc\n",
    "\n",
    "\n",
    "\n",
    "if __name__ == \"__main__\":\n",
    "    N =10000\n",
    "    acc = evaluate_accuracy(N)\n",
    "    print(f\"✅ Accuracy của MobileNetV2 trên {N} ảnh CIFAR-10: {acc:.2%}\")"
   ]
  }
 ],
 "metadata": {
  "kernelspec": {
   "display_name": "Python (code_final_ml)",
   "language": "python",
   "name": "code_final_ml"
  },
  "language_info": {
   "codemirror_mode": {
    "name": "ipython",
    "version": 3
   },
   "file_extension": ".py",
   "mimetype": "text/x-python",
   "name": "python",
   "nbconvert_exporter": "python",
   "pygments_lexer": "ipython3",
   "version": "3.13.5"
  }
 },
 "nbformat": 4,
 "nbformat_minor": 5
}
